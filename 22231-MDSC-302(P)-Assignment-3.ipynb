{
 "cells": [
  {
   "cell_type": "markdown",
   "id": "dd2bf51d",
   "metadata": {},
   "source": [
    "##### Name: K Lalith Aditya\n",
    "##### Regd No: 22231\n",
    "##### Transforms"
   ]
  },
  {
   "cell_type": "markdown",
   "id": "fd0a8db9",
   "metadata": {},
   "source": [
    "#### transforms are used to perform some manipulation of the data and make it suitable for training\n",
    "## Torch vision datasets have 2 parameters: - \n",
    "\"\"\"\n",
    "transform - to modify the features\n",
    "target_transform - to modify the labels\n",
    "these accept the callables containing the transformation logic\n",
    "torchvision.transforms module offers several commonly used transforms out of the box\n",
    "\n",
    "The FashionMNIST features are PIL Image Label Format, and the labels are integers. For training, we need features as normalized tensors, and labels as one-hot encoded tensors. To make the transformations we use ToTensor and Lambda\n",
    "\"\"\"\n"
   ]
  },
  {
   "cell_type": "code",
   "execution_count": 6,
   "id": "5c2d08aa",
   "metadata": {},
   "outputs": [],
   "source": [
    "import torch # importing torch\n",
    "from torchvision import datasets # importing datasets from torchvision\n",
    "from torchvision.transforms import ToTensor, Lambda\n",
    "\n",
    "ds = datasets.FashionMNIST(\n",
    "    root = 'data',\n",
    "    train = True,\n",
    "    download = True,\n",
    "    transform = ToTensor(), # this converts the image into a tensor\n",
    "    target_transform= Lambda(lambda y: torch.zeros(10, dtype=torch.float).scatter_(0,torch.tensor(y), value=1))\n",
    "    # This creates a tensor of zeros with a shape of (10,), indicating that there are 10 possible classes or labels. The dtype is set to float.\n",
    ")"
   ]
  },
  {
   "cell_type": "code",
   "execution_count": 8,
   "id": "21fe940a",
   "metadata": {},
   "outputs": [
    {
     "data": {
      "text/plain": [
       "\"To tensor converts a PIL image or Numpy ndarray into a FloatTensor. and scales the image's pixel intensity values in the range [0. , 1,]\\n\""
      ]
     },
     "execution_count": 8,
     "metadata": {},
     "output_type": "execute_result"
    }
   ],
   "source": [
    "\"\"\"To tensor converts a PIL image or Numpy ndarray into a FloatTensor. and scales the image's pixel intensity values in the range [0. , 1,]\n",
    "\"\"\""
   ]
  },
  {
   "cell_type": "code",
   "execution_count": 9,
   "id": "35b1e396",
   "metadata": {},
   "outputs": [
    {
     "data": {
      "text/plain": [
       "'\\nlambda transforms apply any user-defined lambda function. We define a function to turn the integer into a one-hot encoded tensor. It first creates a zero tensor of size 10 and calls the scatter_ which assigns a value =1 on the index given by the label y\\n'"
      ]
     },
     "execution_count": 9,
     "metadata": {},
     "output_type": "execute_result"
    }
   ],
   "source": [
    "# Lambda Transforms\n",
    "\"\"\"\n",
    "lambda transforms apply any user-defined lambda function. We define a function to turn the integer into a one-hot encoded tensor. It first creates a zero tensor of size 10 and calls the scatter_ which assigns a value =1 on the index given by the label y\n",
    "\"\"\""
   ]
  },
  {
   "cell_type": "code",
   "execution_count": 11,
   "id": "6e579299",
   "metadata": {},
   "outputs": [],
   "source": [
    "target_transform = Lambda(lambda y: torch.zeros(\n",
    "10, dtype=torch.float).scatter_(dim=0, index=torch.tensor(y), value=1))\n",
    "# creates 10 zeros according to lables and data type is float, assigns value =1 to the label y"
   ]
  }
 ],
 "metadata": {
  "kernelspec": {
   "display_name": "Python 3 (ipykernel)",
   "language": "python",
   "name": "python3"
  },
  "language_info": {
   "codemirror_mode": {
    "name": "ipython",
    "version": 3
   },
   "file_extension": ".py",
   "mimetype": "text/x-python",
   "name": "python",
   "nbconvert_exporter": "python",
   "pygments_lexer": "ipython3",
   "version": "3.11.4"
  }
 },
 "nbformat": 4,
 "nbformat_minor": 5
}
