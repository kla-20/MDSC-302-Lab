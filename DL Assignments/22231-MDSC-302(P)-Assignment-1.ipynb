{
 "cells": [
  {
   "cell_type": "markdown",
   "id": "95660108",
   "metadata": {},
   "source": [
    "## Tensors"
   ]
  },
  {
   "cell_type": "code",
   "execution_count": 1,
   "id": "aa32d011",
   "metadata": {},
   "outputs": [],
   "source": [
    "# Tensors are data structures similar to numpy nd-array\n",
    "import torch\n",
    "import numpy as np"
   ]
  },
  {
   "cell_type": "code",
   "execution_count": 2,
   "id": "d42db112",
   "metadata": {},
   "outputs": [],
   "source": [
    "# initializing a tensor\n",
    "\n",
    "x = [[1,2,3],[2,3,4]]\n",
    "x_data = torch.tensor(x)"
   ]
  },
  {
   "cell_type": "code",
   "execution_count": 3,
   "id": "7b2a6a8a",
   "metadata": {},
   "outputs": [
    {
     "data": {
      "text/plain": [
       "tensor([[1, 2, 3],\n",
       "        [2, 3, 4]])"
      ]
     },
     "execution_count": 3,
     "metadata": {},
     "output_type": "execute_result"
    }
   ],
   "source": [
    "x_data"
   ]
  },
  {
   "cell_type": "code",
   "execution_count": 4,
   "id": "6203216e",
   "metadata": {},
   "outputs": [
    {
     "data": {
      "text/plain": [
       "torch.Tensor"
      ]
     },
     "execution_count": 4,
     "metadata": {},
     "output_type": "execute_result"
    }
   ],
   "source": [
    "type(x_data)"
   ]
  },
  {
   "cell_type": "code",
   "execution_count": 5,
   "id": "cbf36546",
   "metadata": {},
   "outputs": [],
   "source": [
    "# from numpy array\n",
    "np_array = np.array(x)\n",
    "tens = torch.from_numpy(np_array)"
   ]
  },
  {
   "cell_type": "code",
   "execution_count": 6,
   "id": "bbcb04ef",
   "metadata": {},
   "outputs": [
    {
     "data": {
      "text/plain": [
       "tensor([[1, 2, 3],\n",
       "        [2, 3, 4]], dtype=torch.int32)"
      ]
     },
     "execution_count": 6,
     "metadata": {},
     "output_type": "execute_result"
    }
   ],
   "source": [
    "tens"
   ]
  },
  {
   "cell_type": "code",
   "execution_count": 7,
   "id": "b8c43b6c",
   "metadata": {},
   "outputs": [
    {
     "data": {
      "text/plain": [
       "tensor([[1, 1, 1],\n",
       "        [1, 1, 1]])"
      ]
     },
     "execution_count": 7,
     "metadata": {},
     "output_type": "execute_result"
    }
   ],
   "source": [
    "# from another tensor\n",
    "x_ones = torch.ones_like(x_data)\n",
    "x_ones\n",
    "# x_ones retains the properties of x_data"
   ]
  },
  {
   "cell_type": "code",
   "execution_count": 8,
   "id": "0c87db91",
   "metadata": {},
   "outputs": [
    {
     "data": {
      "text/plain": [
       "tensor([[0.7998, 0.6212, 0.5340],\n",
       "        [0.5504, 0.2564, 0.4584]])"
      ]
     },
     "execution_count": 8,
     "metadata": {},
     "output_type": "execute_result"
    }
   ],
   "source": [
    "x_rand = torch.rand_like(x_data,dtype=torch.float)\n",
    "x_rand"
   ]
  },
  {
   "cell_type": "code",
   "execution_count": 9,
   "id": "11bb174b",
   "metadata": {},
   "outputs": [
    {
     "data": {
      "text/plain": [
       "torch.Size([2, 3])"
      ]
     },
     "execution_count": 9,
     "metadata": {},
     "output_type": "execute_result"
    }
   ],
   "source": [
    "x_rand.shape"
   ]
  },
  {
   "cell_type": "code",
   "execution_count": 10,
   "id": "a20e2542",
   "metadata": {},
   "outputs": [
    {
     "name": "stdout",
     "output_type": "stream",
     "text": [
      "random tensor: tensor([[0.9587, 0.5559, 0.3803, 0.8532],\n",
      "        [0.9931, 0.3078, 0.2555, 0.5595]]) \n",
      "\n",
      "ones_like tensor: tensor([[1., 1., 1., 1.],\n",
      "        [1., 1., 1., 1.]]) \n",
      "\n",
      "ones tensor: tensor([[1., 1., 1., 1.],\n",
      "        [1., 1., 1., 1.]]) \n",
      "\n",
      "zeros_like tensor: tensor([[0., 0., 0., 0.],\n",
      "        [0., 0., 0., 0.]]) \n",
      "\n",
      "zeros tensor: tensor([[0., 0., 0., 0.],\n",
      "        [0., 0., 0., 0.]]) \n",
      "\n"
     ]
    }
   ],
   "source": [
    "shape = (2,4,)\n",
    "rand_tensor = torch.rand(shape)\n",
    "print(f\"random tensor: {rand_tensor} \\n\")\n",
    "ones_like_tensor = torch.ones_like(rand_tensor)\n",
    "print(f\"ones_like tensor: {ones_like_tensor} \\n\")\n",
    "ones_tensor = torch.ones(shape)\n",
    "print(f\"ones tensor: {ones_tensor} \\n\")\n",
    "zeros_like_tensor = torch.zeros_like(ones_tensor)\n",
    "print(f\"zeros_like tensor: {zeros_like_tensor} \\n\")\n",
    "zeros_tensor = torch.zeros(shape)\n",
    "print(f\"zeros tensor: {zeros_tensor} \\n\")"
   ]
  },
  {
   "cell_type": "markdown",
   "id": "38d0a14f",
   "metadata": {},
   "source": [
    "### Attributes of a Tensor"
   ]
  },
  {
   "cell_type": "code",
   "execution_count": 11,
   "id": "e3d40353",
   "metadata": {},
   "outputs": [
    {
     "data": {
      "text/plain": [
       "tensor([[0.0996, 0.2811, 0.3562, 0.6368, 0.8802, 0.9601, 0.7112, 0.5832, 0.5959,\n",
       "         0.8479, 0.6744, 0.6863, 0.7849, 0.7669],\n",
       "        [0.0414, 0.6044, 0.2702, 0.8342, 0.6036, 0.0452, 0.0224, 0.1510, 0.2966,\n",
       "         0.0894, 0.0042, 0.7061, 0.5662, 0.8710],\n",
       "        [0.8644, 0.0541, 0.6763, 0.2708, 0.8131, 0.1226, 0.1341, 0.1980, 0.4425,\n",
       "         0.3688, 0.6767, 0.6336, 0.7153, 0.0661],\n",
       "        [0.5555, 0.1675, 0.0586, 0.5774, 0.1785, 0.3513, 0.4526, 0.4149, 0.2665,\n",
       "         0.5032, 0.7312, 0.6522, 0.7385, 0.7984],\n",
       "        [0.1988, 0.6426, 0.3554, 0.7942, 0.4537, 0.7852, 0.2483, 0.9153, 0.3306,\n",
       "         0.7045, 0.6144, 0.3344, 0.7124, 0.4184],\n",
       "        [0.8903, 0.7750, 0.1120, 0.4298, 0.7757, 0.4645, 0.4057, 0.8410, 0.2942,\n",
       "         0.8072, 0.2647, 0.4979, 0.6713, 0.4582],\n",
       "        [0.0253, 0.4372, 0.7700, 0.6587, 0.9909, 0.8835, 0.8096, 0.2442, 0.6259,\n",
       "         0.4962, 0.2831, 0.3474, 0.1457, 0.0101],\n",
       "        [0.1358, 0.0470, 0.5990, 0.3937, 0.8479, 0.1305, 0.3448, 0.9331, 0.1950,\n",
       "         0.3521, 0.1345, 0.4951, 0.2650, 0.1790],\n",
       "        [0.1104, 0.0366, 0.3110, 0.6050, 0.1785, 0.6736, 0.0151, 0.7279, 0.6261,\n",
       "         0.3062, 0.7139, 0.4227, 0.3543, 0.7721],\n",
       "        [0.1279, 0.6247, 0.6814, 0.8603, 0.9945, 0.1838, 0.7302, 0.7134, 0.6497,\n",
       "         0.7572, 0.3830, 0.9897, 0.0750, 0.2927],\n",
       "        [0.6692, 0.4868, 0.6371, 0.6802, 0.3756, 0.3849, 0.4228, 0.2920, 0.2089,\n",
       "         0.9387, 0.8768, 0.6446, 0.0368, 0.9409],\n",
       "        [0.0461, 0.4152, 0.8385, 0.3556, 0.9647, 0.7398, 0.5507, 0.0163, 0.4338,\n",
       "         0.3386, 0.3515, 0.6205, 0.0979, 0.0043],\n",
       "        [0.7401, 0.3768, 0.9808, 0.7370, 0.4004, 0.1610, 0.8565, 0.7357, 0.9689,\n",
       "         0.8002, 0.5672, 0.8738, 0.0132, 0.0897]])"
      ]
     },
     "execution_count": 11,
     "metadata": {},
     "output_type": "execute_result"
    }
   ],
   "source": [
    "tensor = torch.rand(13,14)\n",
    "tensor"
   ]
  },
  {
   "cell_type": "code",
   "execution_count": 12,
   "id": "7f241224",
   "metadata": {},
   "outputs": [
    {
     "name": "stdout",
     "output_type": "stream",
     "text": [
      "shape of the tensor: torch.Size([13, 14]) \n",
      "\n",
      "datatype of the tensor: torch.float32 \n",
      "\n",
      "location of the tensor: cpu \n",
      "\n"
     ]
    }
   ],
   "source": [
    "print(f\"shape of the tensor: {tensor.shape} \\n\")\n",
    "print(f\"datatype of the tensor: {tensor.dtype} \\n\")\n",
    "print(f\"location of the tensor: {tensor.device} \\n\")"
   ]
  },
  {
   "cell_type": "markdown",
   "id": "dc6126c3",
   "metadata": {},
   "source": [
    "### Operations on Tensors"
   ]
  },
  {
   "cell_type": "code",
   "execution_count": 13,
   "id": "7cf08363",
   "metadata": {},
   "outputs": [],
   "source": [
    "# moving tensors to GPU\n",
    "if torch.cuda.is_available():\n",
    "    tensor = tensor.to(\"cuda\")"
   ]
  },
  {
   "cell_type": "markdown",
   "id": "35baac6f",
   "metadata": {},
   "source": [
    "### Standard numpy and other operations (slicing, indexing etc..)"
   ]
  },
  {
   "cell_type": "code",
   "execution_count": 14,
   "id": "6ba7d9cc",
   "metadata": {},
   "outputs": [
    {
     "data": {
      "text/plain": [
       "tensor([[0.5504, 0.5260, 0.8353, 0.5505, 0.3775],\n",
       "        [0.5664, 0.6632, 0.2959, 0.2655, 0.8795],\n",
       "        [0.8190, 0.4385, 0.6086, 0.9412, 0.6157]])"
      ]
     },
     "execution_count": 14,
     "metadata": {},
     "output_type": "execute_result"
    }
   ],
   "source": [
    "tensor = torch.rand(3,5)\n",
    "tensor"
   ]
  },
  {
   "cell_type": "code",
   "execution_count": 15,
   "id": "3c8adf4d",
   "metadata": {},
   "outputs": [
    {
     "data": {
      "text/plain": [
       "tensor([0.5504, 0.5260, 0.8353, 0.5505, 0.3775])"
      ]
     },
     "execution_count": 15,
     "metadata": {},
     "output_type": "execute_result"
    }
   ],
   "source": [
    "tensor[0] # first row"
   ]
  },
  {
   "cell_type": "code",
   "execution_count": 16,
   "id": "8d6bb9b9",
   "metadata": {},
   "outputs": [
    {
     "data": {
      "text/plain": [
       "tensor([0.5504, 0.5664, 0.8190])"
      ]
     },
     "execution_count": 16,
     "metadata": {},
     "output_type": "execute_result"
    }
   ],
   "source": [
    "# first column\n",
    "tensor[:,0]"
   ]
  },
  {
   "cell_type": "code",
   "execution_count": 17,
   "id": "d6d4cbcd",
   "metadata": {},
   "outputs": [
    {
     "data": {
      "text/plain": [
       "tensor([0.5504, 0.5260, 0.8353, 0.5505, 0.3775])"
      ]
     },
     "execution_count": 17,
     "metadata": {},
     "output_type": "execute_result"
    }
   ],
   "source": [
    "tensor[0,:] #first row"
   ]
  },
  {
   "cell_type": "code",
   "execution_count": 18,
   "id": "75e588b7",
   "metadata": {},
   "outputs": [
    {
     "data": {
      "text/plain": [
       "tensor([0.5260, 0.6632, 0.4385])"
      ]
     },
     "execution_count": 18,
     "metadata": {},
     "output_type": "execute_result"
    }
   ],
   "source": [
    "# first column\n",
    "tensor[:,1]"
   ]
  },
  {
   "cell_type": "code",
   "execution_count": 19,
   "id": "67432aa5",
   "metadata": {},
   "outputs": [
    {
     "name": "stdout",
     "output_type": "stream",
     "text": [
      "tensor([[0.5504, 0.5260, 0.8353, 0.5505, 0.3775],\n",
      "        [0.5664, 0.6632, 0.2959, 0.2655, 0.8795],\n",
      "        [0.8190, 0.4385, 0.6086, 0.9412, 0.6157]])\n"
     ]
    }
   ],
   "source": [
    "print(tensor)"
   ]
  },
  {
   "cell_type": "code",
   "execution_count": 20,
   "id": "cd94002d",
   "metadata": {},
   "outputs": [
    {
     "data": {
      "text/plain": [
       "tensor([[0.5504, 0.5260, 0.8353, 0.5505, 0.3775, 0.5504, 0.5260, 0.8353, 0.5505,\n",
       "         0.3775, 0.5504, 0.5260, 0.8353, 0.5505, 0.3775],\n",
       "        [0.5664, 0.6632, 0.2959, 0.2655, 0.8795, 0.5664, 0.6632, 0.2959, 0.2655,\n",
       "         0.8795, 0.5664, 0.6632, 0.2959, 0.2655, 0.8795],\n",
       "        [0.8190, 0.4385, 0.6086, 0.9412, 0.6157, 0.8190, 0.4385, 0.6086, 0.9412,\n",
       "         0.6157, 0.8190, 0.4385, 0.6086, 0.9412, 0.6157]])"
      ]
     },
     "execution_count": 20,
     "metadata": {},
     "output_type": "execute_result"
    }
   ],
   "source": [
    "# joining tensors \n",
    "\n",
    "t1 = torch.cat([tensor,tensor,tensor],dim=1)\n",
    "t1"
   ]
  },
  {
   "cell_type": "code",
   "execution_count": 21,
   "id": "0a49dea3",
   "metadata": {},
   "outputs": [],
   "source": [
    "tlist = []\n",
    "for i in range(0,len(tensor)):\n",
    "    tlist.append(tensor)"
   ]
  },
  {
   "cell_type": "code",
   "execution_count": 22,
   "id": "90379789",
   "metadata": {},
   "outputs": [
    {
     "data": {
      "text/plain": [
       "[tensor([[0.5504, 0.5260, 0.8353, 0.5505, 0.3775],\n",
       "         [0.5664, 0.6632, 0.2959, 0.2655, 0.8795],\n",
       "         [0.8190, 0.4385, 0.6086, 0.9412, 0.6157]]),\n",
       " tensor([[0.5504, 0.5260, 0.8353, 0.5505, 0.3775],\n",
       "         [0.5664, 0.6632, 0.2959, 0.2655, 0.8795],\n",
       "         [0.8190, 0.4385, 0.6086, 0.9412, 0.6157]]),\n",
       " tensor([[0.5504, 0.5260, 0.8353, 0.5505, 0.3775],\n",
       "         [0.5664, 0.6632, 0.2959, 0.2655, 0.8795],\n",
       "         [0.8190, 0.4385, 0.6086, 0.9412, 0.6157]])]"
      ]
     },
     "execution_count": 22,
     "metadata": {},
     "output_type": "execute_result"
    }
   ],
   "source": [
    "tlist"
   ]
  },
  {
   "cell_type": "code",
   "execution_count": 23,
   "id": "17eb9e13",
   "metadata": {},
   "outputs": [],
   "source": [
    "t2 = torch.cat([tensor,tensor,tensor],dim=1)"
   ]
  },
  {
   "cell_type": "code",
   "execution_count": 24,
   "id": "e5e4fa81",
   "metadata": {},
   "outputs": [
    {
     "data": {
      "text/plain": [
       "tensor([[0.5504, 0.5260, 0.8353, 0.5505, 0.3775, 0.5504, 0.5260, 0.8353, 0.5505,\n",
       "         0.3775, 0.5504, 0.5260, 0.8353, 0.5505, 0.3775],\n",
       "        [0.5664, 0.6632, 0.2959, 0.2655, 0.8795, 0.5664, 0.6632, 0.2959, 0.2655,\n",
       "         0.8795, 0.5664, 0.6632, 0.2959, 0.2655, 0.8795],\n",
       "        [0.8190, 0.4385, 0.6086, 0.9412, 0.6157, 0.8190, 0.4385, 0.6086, 0.9412,\n",
       "         0.6157, 0.8190, 0.4385, 0.6086, 0.9412, 0.6157]])"
      ]
     },
     "execution_count": 24,
     "metadata": {},
     "output_type": "execute_result"
    }
   ],
   "source": [
    "t2"
   ]
  },
  {
   "cell_type": "code",
   "execution_count": 25,
   "id": "34dfb597",
   "metadata": {},
   "outputs": [],
   "source": [
    "xamp = torch.rand(3,2)"
   ]
  },
  {
   "cell_type": "code",
   "execution_count": 26,
   "id": "a52ce906",
   "metadata": {},
   "outputs": [
    {
     "data": {
      "text/plain": [
       "tensor([[0.9235, 0.2962],\n",
       "        [0.0265, 0.3883],\n",
       "        [0.6800, 0.2934]])"
      ]
     },
     "execution_count": 26,
     "metadata": {},
     "output_type": "execute_result"
    }
   ],
   "source": [
    "xamp"
   ]
  },
  {
   "cell_type": "code",
   "execution_count": 27,
   "id": "efef0cc2",
   "metadata": {},
   "outputs": [],
   "source": [
    "t3 = torch.cat([xamp,xamp,xamp],dim=1)"
   ]
  },
  {
   "cell_type": "code",
   "execution_count": 28,
   "id": "98b35ab9",
   "metadata": {},
   "outputs": [
    {
     "data": {
      "text/plain": [
       "tensor([[0.9235, 0.2962, 0.9235, 0.2962, 0.9235, 0.2962],\n",
       "        [0.0265, 0.3883, 0.0265, 0.3883, 0.0265, 0.3883],\n",
       "        [0.6800, 0.2934, 0.6800, 0.2934, 0.6800, 0.2934]])"
      ]
     },
     "execution_count": 28,
     "metadata": {},
     "output_type": "execute_result"
    }
   ],
   "source": [
    "t3"
   ]
  },
  {
   "cell_type": "markdown",
   "id": "4a20df27",
   "metadata": {},
   "source": [
    "##"
   ]
  },
  {
   "cell_type": "markdown",
   "id": "490be52e",
   "metadata": {},
   "source": [
    "### Arithmetic Operations"
   ]
  },
  {
   "cell_type": "code",
   "execution_count": 29,
   "id": "99b528bb",
   "metadata": {},
   "outputs": [],
   "source": [
    "tensor = torch.ones(2,3)"
   ]
  },
  {
   "cell_type": "code",
   "execution_count": 30,
   "id": "f2b0b17e",
   "metadata": {},
   "outputs": [
    {
     "data": {
      "text/plain": [
       "tensor([[1., 1., 1.],\n",
       "        [1., 1., 1.]])"
      ]
     },
     "execution_count": 30,
     "metadata": {},
     "output_type": "execute_result"
    }
   ],
   "source": [
    "tensor"
   ]
  },
  {
   "cell_type": "code",
   "execution_count": 31,
   "id": "0082d6da",
   "metadata": {},
   "outputs": [],
   "source": [
    "y1 = tensor.T"
   ]
  },
  {
   "cell_type": "code",
   "execution_count": 32,
   "id": "07f14683",
   "metadata": {},
   "outputs": [
    {
     "data": {
      "text/plain": [
       "tensor([[1., 1.],\n",
       "        [1., 1.],\n",
       "        [1., 1.]])"
      ]
     },
     "execution_count": 32,
     "metadata": {},
     "output_type": "execute_result"
    }
   ],
   "source": [
    "y1"
   ]
  },
  {
   "cell_type": "code",
   "execution_count": 33,
   "id": "7fb0c8b5",
   "metadata": {},
   "outputs": [],
   "source": [
    "y2 = tensor @ tensor.T # matrix multiplication with itself"
   ]
  },
  {
   "cell_type": "code",
   "execution_count": 34,
   "id": "5a23be21",
   "metadata": {},
   "outputs": [
    {
     "data": {
      "text/plain": [
       "tensor([[3., 3.],\n",
       "        [3., 3.]])"
      ]
     },
     "execution_count": 34,
     "metadata": {},
     "output_type": "execute_result"
    }
   ],
   "source": [
    "y2"
   ]
  },
  {
   "cell_type": "code",
   "execution_count": 35,
   "id": "da78dee5",
   "metadata": {},
   "outputs": [],
   "source": [
    "y3 = torch.zeros(3,4)"
   ]
  },
  {
   "cell_type": "code",
   "execution_count": 36,
   "id": "4c391340",
   "metadata": {},
   "outputs": [],
   "source": [
    "y4 = tensor @ y3"
   ]
  },
  {
   "cell_type": "code",
   "execution_count": 37,
   "id": "4af2762e",
   "metadata": {},
   "outputs": [
    {
     "data": {
      "text/plain": [
       "tensor([[0., 0., 0., 0.],\n",
       "        [0., 0., 0., 0.]])"
      ]
     },
     "execution_count": 37,
     "metadata": {},
     "output_type": "execute_result"
    }
   ],
   "source": [
    "y4"
   ]
  },
  {
   "cell_type": "code",
   "execution_count": 38,
   "id": "aef67919",
   "metadata": {},
   "outputs": [],
   "source": [
    "y5  = tensor.matmul(y3)"
   ]
  },
  {
   "cell_type": "code",
   "execution_count": 39,
   "id": "897ef643",
   "metadata": {},
   "outputs": [
    {
     "data": {
      "text/plain": [
       "tensor([[0., 0., 0., 0.],\n",
       "        [0., 0., 0., 0.]])"
      ]
     },
     "execution_count": 39,
     "metadata": {},
     "output_type": "execute_result"
    }
   ],
   "source": [
    "y5"
   ]
  },
  {
   "cell_type": "code",
   "execution_count": 40,
   "id": "a6c50d3b",
   "metadata": {},
   "outputs": [
    {
     "data": {
      "text/plain": [
       "tensor([[3., 3.],\n",
       "        [3., 3.]])"
      ]
     },
     "execution_count": 40,
     "metadata": {},
     "output_type": "execute_result"
    }
   ],
   "source": [
    "y1 = tensor @ tensor.T\n",
    "y2 = tensor.matmul(tensor.T)\n",
    "\n",
    "y3 = torch.rand_like(y1)\n",
    "torch.matmul(tensor, tensor.T, out=y3)"
   ]
  },
  {
   "cell_type": "code",
   "execution_count": 41,
   "id": "8ecab76f",
   "metadata": {},
   "outputs": [
    {
     "name": "stdout",
     "output_type": "stream",
     "text": [
      "tensor([[3., 3.],\n",
      "        [3., 3.]])\n",
      "tensor([[3., 3.],\n",
      "        [3., 3.]])\n",
      "tensor([[3., 3.],\n",
      "        [3., 3.]])\n"
     ]
    }
   ],
   "source": [
    "print(y1)\n",
    "print(y2)\n",
    "print(y3)"
   ]
  },
  {
   "cell_type": "code",
   "execution_count": 42,
   "id": "7a7836a5",
   "metadata": {},
   "outputs": [],
   "source": [
    "# element wise multiplication\n",
    "\n",
    "tensor = torch.rand(1,2)"
   ]
  },
  {
   "cell_type": "code",
   "execution_count": 43,
   "id": "eac4cae1",
   "metadata": {},
   "outputs": [
    {
     "data": {
      "text/plain": [
       "tensor([[0.1288, 0.5976]])"
      ]
     },
     "execution_count": 43,
     "metadata": {},
     "output_type": "execute_result"
    }
   ],
   "source": [
    "tensor"
   ]
  },
  {
   "cell_type": "code",
   "execution_count": 44,
   "id": "f4732d7f",
   "metadata": {},
   "outputs": [],
   "source": [
    "z1 = tensor * tensor"
   ]
  },
  {
   "cell_type": "code",
   "execution_count": 45,
   "id": "7d27b2b5",
   "metadata": {},
   "outputs": [
    {
     "data": {
      "text/plain": [
       "tensor([[0.0166, 0.3572]])"
      ]
     },
     "execution_count": 45,
     "metadata": {},
     "output_type": "execute_result"
    }
   ],
   "source": [
    "z1"
   ]
  },
  {
   "cell_type": "code",
   "execution_count": 46,
   "id": "8452c976",
   "metadata": {},
   "outputs": [],
   "source": [
    "z2 = tensor * torch.zeros(1,2)"
   ]
  },
  {
   "cell_type": "code",
   "execution_count": 47,
   "id": "ff3a4a36",
   "metadata": {},
   "outputs": [
    {
     "data": {
      "text/plain": [
       "tensor([[0., 0.]])"
      ]
     },
     "execution_count": 47,
     "metadata": {},
     "output_type": "execute_result"
    }
   ],
   "source": [
    "z2"
   ]
  },
  {
   "cell_type": "markdown",
   "id": "56682578",
   "metadata": {},
   "source": [
    "## single element tensor"
   ]
  },
  {
   "cell_type": "code",
   "execution_count": 48,
   "id": "96cfe2be",
   "metadata": {},
   "outputs": [],
   "source": [
    "tensor = torch.ones_like(z2)"
   ]
  },
  {
   "cell_type": "code",
   "execution_count": 49,
   "id": "602aa5de",
   "metadata": {},
   "outputs": [
    {
     "data": {
      "text/plain": [
       "tensor([[1., 1.]])"
      ]
     },
     "execution_count": 49,
     "metadata": {},
     "output_type": "execute_result"
    }
   ],
   "source": [
    "tensor"
   ]
  },
  {
   "cell_type": "code",
   "execution_count": 51,
   "id": "7eef7c8f",
   "metadata": {},
   "outputs": [],
   "source": [
    "agg = tensor.sum()"
   ]
  },
  {
   "cell_type": "code",
   "execution_count": 52,
   "id": "b298ede3",
   "metadata": {},
   "outputs": [
    {
     "data": {
      "text/plain": [
       "tensor(2.)"
      ]
     },
     "execution_count": 52,
     "metadata": {},
     "output_type": "execute_result"
    }
   ],
   "source": [
    "agg"
   ]
  },
  {
   "cell_type": "code",
   "execution_count": 53,
   "id": "149ef217",
   "metadata": {},
   "outputs": [],
   "source": [
    "agg_item = agg.item()"
   ]
  },
  {
   "cell_type": "code",
   "execution_count": 54,
   "id": "531723a3",
   "metadata": {},
   "outputs": [
    {
     "name": "stdout",
     "output_type": "stream",
     "text": [
      "2.0 <class 'builtin_function_or_method'>\n"
     ]
    }
   ],
   "source": [
    "print(agg_item, type(agg.item))"
   ]
  },
  {
   "cell_type": "markdown",
   "id": "4df71919",
   "metadata": {},
   "source": [
    "### Inplace operations \n",
    "#### These are the operations which change the operand's value in place they are used by a suffix_"
   ]
  },
  {
   "cell_type": "code",
   "execution_count": 56,
   "id": "a0032701",
   "metadata": {},
   "outputs": [
    {
     "name": "stdout",
     "output_type": "stream",
     "text": [
      "tensor([[1., 1.]]) \n",
      "\n"
     ]
    }
   ],
   "source": [
    "print(f\"{tensor} \\n\")"
   ]
  },
  {
   "cell_type": "code",
   "execution_count": 57,
   "id": "87d54019",
   "metadata": {},
   "outputs": [
    {
     "data": {
      "text/plain": [
       "tensor([[6., 6.]])"
      ]
     },
     "execution_count": 57,
     "metadata": {},
     "output_type": "execute_result"
    }
   ],
   "source": [
    "tensor.add_(5)"
   ]
  },
  {
   "cell_type": "code",
   "execution_count": 58,
   "id": "317c9e4b",
   "metadata": {},
   "outputs": [
    {
     "name": "stdout",
     "output_type": "stream",
     "text": [
      "tensor([[6., 6.]]) \n",
      "\n"
     ]
    }
   ],
   "source": [
    "print(f\"{tensor} \\n\")"
   ]
  },
  {
   "cell_type": "markdown",
   "id": "38e14811",
   "metadata": {},
   "source": [
    "#### Bridging with Numpy"
   ]
  },
  {
   "cell_type": "code",
   "execution_count": 60,
   "id": "c201ec81",
   "metadata": {},
   "outputs": [
    {
     "name": "stdout",
     "output_type": "stream",
     "text": [
      "t: tensor([1., 1., 1., 1., 1.])\n"
     ]
    }
   ],
   "source": [
    "t = torch.ones(5)\n",
    "print(f\"t: {t}\")"
   ]
  },
  {
   "cell_type": "code",
   "execution_count": 61,
   "id": "af4d76ea",
   "metadata": {},
   "outputs": [
    {
     "name": "stdout",
     "output_type": "stream",
     "text": [
      "n: [1. 1. 1. 1. 1.]\n"
     ]
    }
   ],
   "source": [
    "n = t.numpy()\n",
    "print(f\"n: {n}\")"
   ]
  },
  {
   "cell_type": "markdown",
   "id": "c1955814",
   "metadata": {},
   "source": [
    "#### change in the tensor is reflected because the tensors in the cpu and the numpy array's are sharing the underlying memory location"
   ]
  },
  {
   "cell_type": "code",
   "execution_count": 64,
   "id": "d8a5f2e4",
   "metadata": {},
   "outputs": [
    {
     "data": {
      "text/plain": [
       "tensor([3., 3., 3., 3., 3.])"
      ]
     },
     "execution_count": 64,
     "metadata": {},
     "output_type": "execute_result"
    }
   ],
   "source": [
    "t.add_(1)"
   ]
  },
  {
   "cell_type": "code",
   "execution_count": 65,
   "id": "95e1d266",
   "metadata": {},
   "outputs": [
    {
     "data": {
      "text/plain": [
       "array([3., 3., 3., 3., 3.], dtype=float32)"
      ]
     },
     "execution_count": 65,
     "metadata": {},
     "output_type": "execute_result"
    }
   ],
   "source": [
    "n"
   ]
  },
  {
   "cell_type": "markdown",
   "id": "e961014b",
   "metadata": {},
   "source": [
    "#### numpy array to tensor"
   ]
  },
  {
   "cell_type": "code",
   "execution_count": 66,
   "id": "dcb213d3",
   "metadata": {},
   "outputs": [],
   "source": [
    "import numpy as np\n",
    "n = np.ones(4)"
   ]
  },
  {
   "cell_type": "code",
   "execution_count": 67,
   "id": "27269472",
   "metadata": {},
   "outputs": [
    {
     "data": {
      "text/plain": [
       "tensor([1., 1., 1., 1.], dtype=torch.float64)"
      ]
     },
     "execution_count": 67,
     "metadata": {},
     "output_type": "execute_result"
    }
   ],
   "source": [
    "t = torch.from_numpy(n)\n",
    "t"
   ]
  },
  {
   "cell_type": "code",
   "execution_count": 73,
   "id": "439bb669",
   "metadata": {},
   "outputs": [
    {
     "data": {
      "text/plain": [
       "array([10., 10., 10., 10.])"
      ]
     },
     "execution_count": 73,
     "metadata": {},
     "output_type": "execute_result"
    }
   ],
   "source": [
    "np.add(n,3,out=n)"
   ]
  },
  {
   "cell_type": "code",
   "execution_count": 74,
   "id": "34376818",
   "metadata": {},
   "outputs": [
    {
     "name": "stdout",
     "output_type": "stream",
     "text": [
      "n: [10. 10. 10. 10.]\n"
     ]
    }
   ],
   "source": [
    "print(f\"n: {n}\")"
   ]
  },
  {
   "cell_type": "code",
   "execution_count": 75,
   "id": "62e9a735",
   "metadata": {},
   "outputs": [
    {
     "name": "stdout",
     "output_type": "stream",
     "text": [
      "n: tensor([10., 10., 10., 10.], dtype=torch.float64)\n"
     ]
    }
   ],
   "source": [
    "print(f\"n: {t}\")"
   ]
  }
 ],
 "metadata": {
  "kernelspec": {
   "display_name": "Python 3 (ipykernel)",
   "language": "python",
   "name": "python3"
  },
  "language_info": {
   "codemirror_mode": {
    "name": "ipython",
    "version": 3
   },
   "file_extension": ".py",
   "mimetype": "text/x-python",
   "name": "python",
   "nbconvert_exporter": "python",
   "pygments_lexer": "ipython3",
   "version": "3.11.4"
  }
 },
 "nbformat": 4,
 "nbformat_minor": 5
}
