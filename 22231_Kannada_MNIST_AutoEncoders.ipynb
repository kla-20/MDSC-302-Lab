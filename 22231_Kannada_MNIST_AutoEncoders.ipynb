{
  "nbformat": 4,
  "nbformat_minor": 0,
  "metadata": {
    "colab": {
      "provenance": []
    },
    "kernelspec": {
      "name": "python3",
      "display_name": "Python 3"
    },
    "language_info": {
      "name": "python"
    }
  },
  "cells": [
    {
      "cell_type": "code",
      "execution_count": 1,
      "metadata": {
        "id": "21G2hQuAMIGS"
      },
      "outputs": [],
      "source": [
        "import torch\n",
        "from torchvision import datasets\n",
        "from torchvision import transforms\n",
        "import matplotlib.pyplot as plt\n",
        "import pandas as pd\n",
        "from sklearn import datasets, decomposition\n",
        "import torch.nn as nn\n",
        "import torch.optim as optim\n",
        "import math\n"
      ]
    },
    {
      "cell_type": "code",
      "source": [
        "train  = pd.read_csv('/content/drive/MyDrive/Kannada MNIST/train.csv') # train dataset\n",
        "test = pd.read_csv('/content/drive/MyDrive/Kannada MNIST/test.csv') # test dataset"
      ],
      "metadata": {
        "id": "-zmVmnNhMMGe"
      },
      "execution_count": 2,
      "outputs": []
    },
    {
      "cell_type": "code",
      "source": [
        "class Encoder(nn.Module):\n",
        "    def __init__(self, n_in, n_hidden_1, n_hidden_2, n_hidden_3, n_out):\n",
        "        super(Encoder, self).__init__()\n",
        "        self.layer1 = nn.Sequential(\n",
        "            nn.Linear(n_in, n_hidden_1, bias=True),\n",
        "            nn.BatchNorm1d(n_hidden_1),\n",
        "            nn.Sigmoid())\n",
        "        self.layer2 = nn.Sequential(\n",
        "            nn.Linear(n_hidden_1, n_hidden_2, bias=True),\n",
        "            nn.BatchNorm1d(n_hidden_2),\n",
        "            nn.Sigmoid())\n",
        "        self.layer3 = nn.Sequential(\n",
        "            nn.Linear(n_hidden_2, n_hidden_3, bias=True),\n",
        "            nn.BatchNorm1d(n_hidden_3),\n",
        "            nn.Sigmoid())\n",
        "        n_size = math.floor(math.sqrt(n_out))\n",
        "        self.layer4 = nn.Sequential(\n",
        "            nn.Linear(n_hidden_3, n_out, bias=True),\n",
        "            nn.BatchNorm1d(n_out),\n",
        "            nn.Sigmoid(),\n",
        "        )\n",
        "\n",
        "    def forward(self, x):\n",
        "        x = self.layer1(x.float())\n",
        "        x = self.layer2(x)\n",
        "        x = self.layer3(x)\n",
        "        return self.layer4(x)\n",
        "\n",
        "class Decoder(nn.Module):\n",
        "    def __init__(self, n_in, n_hidden_1, n_hidden_2, n_hidden_3, n_out):\n",
        "        super(Decoder, self).__init__()\n",
        "        self.layer1 = nn.Sequential(\n",
        "            nn.Linear(n_in, n_hidden_1, bias=True),\n",
        "            nn.BatchNorm1d(n_hidden_1),\n",
        "            nn.Sigmoid())\n",
        "        self.layer2 = nn.Sequential(\n",
        "            nn.Linear(n_hidden_1, n_hidden_2, bias=True),\n",
        "            nn.BatchNorm1d(n_hidden_2),\n",
        "            nn.Sigmoid())\n",
        "        self.layer3 = nn.Sequential(\n",
        "            nn.Linear(n_hidden_2, n_hidden_3, bias=True),\n",
        "            nn.BatchNorm1d(n_hidden_3),\n",
        "            nn.Sigmoid())\n",
        "        n_size = math.floor(math.sqrt(n_out))\n",
        "        self.layer4 = nn.Sequential(\n",
        "            nn.Linear(n_hidden_3, n_out, bias=True),\n",
        "            nn.BatchNorm1d(n_out),\n",
        "            nn.Sigmoid(),\n",
        "        )\n",
        "\n",
        "    def forward(self, x):\n",
        "        x = self.layer1(x.float())\n",
        "        x = self.layer2(x)\n",
        "        x = self.layer3(x)\n",
        "        return self.layer4(x)\n",
        "\n",
        "encoder = Encoder(784, 1000, 500, 250, 2)\n",
        "decoder = Decoder(2, 250, 500, 1000, 784)"
      ],
      "metadata": {
        "id": "oECCWvvyMbe8"
      },
      "execution_count": 3,
      "outputs": []
    },
    {
      "cell_type": "code",
      "source": [
        "# Define the Mean Squared Error (MSE) loss function\n",
        "loss_fn = nn.MSELoss()\n",
        "\n",
        "# Define the optimizer for the decoder's parameters\n",
        "optimizer = optim.Adam(\n",
        "    decoder.parameters(),  # Pass the parameters of the decoder\n",
        "    lr=0.001,               # Learning rate\n",
        "    betas=(0.9, 0.999),     # Betas for Adam optimizer\n",
        "    eps=1e-08               # Epsilon value for numerical stability\n",
        ")"
      ],
      "metadata": {
        "id": "Z17FijxXMfTM"
      },
      "execution_count": 4,
      "outputs": []
    },
    {
      "cell_type": "code",
      "source": [
        "from torch.utils.data import DataLoader"
      ],
      "metadata": {
        "id": "OjkWTgB9Mijv"
      },
      "execution_count": 5,
      "outputs": []
    },
    {
      "cell_type": "code",
      "source": [
        "from torch.utils.data import Dataset, random_split"
      ],
      "metadata": {
        "id": "DObPDit5MkHm"
      },
      "execution_count": 6,
      "outputs": []
    },
    {
      "cell_type": "code",
      "source": [
        "import os\n",
        "import pandas as pd\n",
        "from torchvision.io import read_image\n",
        "\n",
        "class CustomDataset(Dataset):\n",
        "    def __init__(self, df, transform=None, target_transform=None):\n",
        "        self.img_labels = df.iloc[:, 0]\n",
        "        self.data = df.iloc[:, 1:]\n",
        "        self.transform = transform\n",
        "        self.target_transform = target_transform\n",
        "\n",
        "    def __len__(self):\n",
        "        return len(self.img_labels)\n",
        "\n",
        "    def __getitem__(self, idx):\n",
        "        image = torch.tensor(self.data.iloc[idx,:])\n",
        "        label = self.img_labels.iloc[idx]\n",
        "        if self.transform:\n",
        "            image = self.transform(image)\n",
        "        if self.target_transform:\n",
        "            label = self.target_transform(label)\n",
        "        return image,label"
      ],
      "metadata": {
        "id": "3tVgS954MlsO"
      },
      "execution_count": 7,
      "outputs": []
    },
    {
      "cell_type": "code",
      "source": [
        "train_images = CustomDataset(train)\n",
        "test_images = CustomDataset(test)"
      ],
      "metadata": {
        "id": "ax2YAWFMMorm"
      },
      "execution_count": 8,
      "outputs": []
    },
    {
      "cell_type": "code",
      "source": [
        "from torch.utils.data import DataLoader\n",
        "\n",
        "trainloader = DataLoader(train_images, batch_size=64, shuffle=True)\n",
        "testloader = DataLoader(test_images, batch_size=64, shuffle=True)"
      ],
      "metadata": {
        "id": "AwYMltgjMq5m"
      },
      "execution_count": 9,
      "outputs": []
    },
    {
      "cell_type": "markdown",
      "source": [
        "## IMage"
      ],
      "metadata": {
        "id": "alNcDU8BYwW4"
      }
    },
    {
      "cell_type": "code",
      "source": [
        "import matplotlib.pyplot as plt\n",
        "import numpy as np\n",
        "from torchvision import utils\n",
        "import random\n",
        "\n",
        "\n",
        "test_features,test_labels = next(iter(testloader))\n",
        "test_features[0].size()\n",
        "for i in range(len(test_features)):\n",
        "  torch.reshape(test_features[i],(28*28,1))\n",
        "print(f\"Feature batch shape: {test_features.size()}\")\n",
        "print(f\"Labels batch shape: {test_labels.size()}\")\n",
        "img = test_features[5].reshape(28,28).squeeze()\n",
        "label = test_labels[5]\n",
        "plt.imshow(img, cmap=\"gray\")\n",
        "plt.show()\n",
        "print(f\"Label: {label}\")"
      ],
      "metadata": {
        "colab": {
          "base_uri": "https://localhost:8080/",
          "height": 482
        },
        "id": "q1nNdechYwM4",
        "outputId": "e21f7e4c-70df-4734-c4dc-a5ab570a5dbe"
      },
      "execution_count": 42,
      "outputs": [
        {
          "output_type": "stream",
          "name": "stdout",
          "text": [
            "Feature batch shape: torch.Size([64, 784])\n",
            "Labels batch shape: torch.Size([64])\n"
          ]
        },
        {
          "output_type": "display_data",
          "data": {
            "text/plain": [
              "<Figure size 640x480 with 1 Axes>"
            ],
            "image/png": "[encoded data removed]"
          },
          "metadata": {}
        },
        {
          "output_type": "stream",
          "name": "stdout",
          "text": [
            "Label: 2033\n"
          ]
        }
      ]
    },
    {
      "cell_type": "code",
      "source": [
        "# Training Loop\n",
        "NUM_EPOCHS = 5\n",
        "for epoch in range(NUM_EPOCHS):\n",
        "    for input, labels in trainloader:\n",
        "        optimizer.zero_grad()\n",
        "        code = encoder(input)\n",
        "        output = decoder(code)\n",
        "        #print(input.shape, output.shape)\n",
        "        loss = loss_fn(output, input)\n",
        "        optimizer.step()\n",
        "    print(f\"Epoch: {epoch} Loss: {loss}\")"
      ],
      "metadata": {
        "colab": {
          "base_uri": "https://localhost:8080/"
        },
        "id": "g29Lh_uKMswj",
        "outputId": "614f26bd-40a0-41ed-f7da-b74a9672f88d"
      },
      "execution_count": 10,
      "outputs": [
        {
          "output_type": "stream",
          "name": "stdout",
          "text": [
            "Epoch: 0 Loss: 4438.322265625\n",
            "Epoch: 1 Loss: 4523.615234375\n",
            "Epoch: 2 Loss: 4234.49462890625\n",
            "Epoch: 3 Loss: 4098.2333984375\n",
            "Epoch: 4 Loss: 4115.48291015625\n"
          ]
        }
      ]
    }
  ]
}