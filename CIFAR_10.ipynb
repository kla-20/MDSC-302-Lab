{
  "nbformat": 4,
  "nbformat_minor": 0,
  "metadata": {
    "colab": {
      "provenance": [],
      "gpuType": "T4"
    },
    "kernelspec": {
      "name": "python3",
      "display_name": "Python 3"
    },
    "language_info": {
      "name": "python"
    },
    "accelerator": "GPU"
  },
  "cells": [
    {
      "cell_type": "code",
      "execution_count": 1,
      "metadata": {
        "id": "5mtd0KJNhHvq"
      },
      "outputs": [],
      "source": [
        "import torch.nn as nn # importing torch.nn as nn"
      ]
    },
    {
      "cell_type": "code",
      "source": [
        "!pip install torch torchvision #installing torchvision package"
      ],
      "metadata": {
        "colab": {
          "base_uri": "https://localhost:8080/"
        },
        "id": "uAaehnHHmUQ2",
        "outputId": "dc98d1e7-1e71-43f0-9163-ebecc5698ae2"
      },
      "execution_count": 2,
      "outputs": [
        {
          "output_type": "stream",
          "name": "stdout",
          "text": [
            "Requirement already satisfied: torch in /usr/local/lib/python3.10/dist-packages (2.0.1+cu118)\n",
            "Requirement already satisfied: torchvision in /usr/local/lib/python3.10/dist-packages (0.15.2+cu118)\n",
            "Requirement already satisfied: filelock in /usr/local/lib/python3.10/dist-packages (from torch) (3.12.2)\n",
            "Requirement already satisfied: typing-extensions in /usr/local/lib/python3.10/dist-packages (from torch) (4.5.0)\n",
            "Requirement already satisfied: sympy in /usr/local/lib/python3.10/dist-packages (from torch) (1.12)\n",
            "Requirement already satisfied: networkx in /usr/local/lib/python3.10/dist-packages (from torch) (3.1)\n",
            "Requirement already satisfied: jinja2 in /usr/local/lib/python3.10/dist-packages (from torch) (3.1.2)\n",
            "Requirement already satisfied: triton==2.0.0 in /usr/local/lib/python3.10/dist-packages (from torch) (2.0.0)\n",
            "Requirement already satisfied: cmake in /usr/local/lib/python3.10/dist-packages (from triton==2.0.0->torch) (3.27.4.1)\n",
            "Requirement already satisfied: lit in /usr/local/lib/python3.10/dist-packages (from triton==2.0.0->torch) (16.0.6)\n",
            "Requirement already satisfied: numpy in /usr/local/lib/python3.10/dist-packages (from torchvision) (1.23.5)\n",
            "Requirement already satisfied: requests in /usr/local/lib/python3.10/dist-packages (from torchvision) (2.31.0)\n",
            "Requirement already satisfied: pillow!=8.3.*,>=5.3.0 in /usr/local/lib/python3.10/dist-packages (from torchvision) (9.4.0)\n",
            "Requirement already satisfied: MarkupSafe>=2.0 in /usr/local/lib/python3.10/dist-packages (from jinja2->torch) (2.1.3)\n",
            "Requirement already satisfied: charset-normalizer<4,>=2 in /usr/local/lib/python3.10/dist-packages (from requests->torchvision) (3.2.0)\n",
            "Requirement already satisfied: idna<4,>=2.5 in /usr/local/lib/python3.10/dist-packages (from requests->torchvision) (3.4)\n",
            "Requirement already satisfied: urllib3<3,>=1.21.1 in /usr/local/lib/python3.10/dist-packages (from requests->torchvision) (2.0.4)\n",
            "Requirement already satisfied: certifi>=2017.4.17 in /usr/local/lib/python3.10/dist-packages (from requests->torchvision) (2023.7.22)\n",
            "Requirement already satisfied: mpmath>=0.19 in /usr/local/lib/python3.10/dist-packages (from sympy->torch) (1.3.0)\n"
          ]
        }
      ]
    },
    {
      "cell_type": "code",
      "source": [
        "import torch # importing torch\n",
        "from torchvision import datasets # importing datasets from torchvision\n",
        "from torchvision.transforms import ToTensor, Lambda #importing ToTensor and Lambda\n",
        "from torch.utils.data import Dataset, random_split"
      ],
      "metadata": {
        "id": "ddQSNFjVmU3N"
      },
      "execution_count": 3,
      "outputs": []
    },
    {
      "cell_type": "code",
      "source": [
        "import pandas as pd"
      ],
      "metadata": {
        "id": "eQ7QoQYOmXcd"
      },
      "execution_count": 4,
      "outputs": []
    },
    {
      "cell_type": "code",
      "source": [
        "import torch # importing torch\n",
        "from torchvision import datasets # importing datasets from torchvision\n",
        "from torchvision.transforms import ToTensor, Lambda #importing ToTensor and Lambda\n",
        "\n",
        "ds_train = datasets.CIFAR10(  # Getting dataset (training) from FashionMNIST\n",
        "    root = 'data',\n",
        "    train = True,\n",
        "    download = True,\n",
        "    transform = ToTensor(), # this converts the image into a tensor\n",
        "    target_transform= Lambda(lambda y: torch.zeros(10, dtype=torch.float).scatter_(0,torch.tensor(y), value=1))\n",
        "    # This creates a tensor of zeros with a shape of (10,), indicating that there are 10 possible classes or labels. The dtype is set to float.\n",
        ")\n",
        "\n",
        "test_dataset = datasets.CIFAR10(  # Getting dataset (testing) from FashionMNIST\n",
        "    root = 'data',\n",
        "    train = False,\n",
        "    download = True,\n",
        "    transform = ToTensor(), # this converts the image into a tensor\n",
        "    target_transform= Lambda(lambda y: torch.zeros(10, dtype=torch.float).scatter_(0,torch.tensor(y), value=1))\n",
        "    # This creates a tensor of zeros with a shape of (10,), indicating that there are 10 possible classes or labels. The dtype is set to float.\n",
        ")"
      ],
      "metadata": {
        "colab": {
          "base_uri": "https://localhost:8080/"
        },
        "id": "zOBpEC2IEV17",
        "outputId": "7f4d66d7-18ed-4ea0-ccf9-aa92cb81d074"
      },
      "execution_count": 5,
      "outputs": [
        {
          "output_type": "stream",
          "name": "stdout",
          "text": [
            "Downloading https://www.cs.toronto.edu/~kriz/cifar-10-python.tar.gz to data/cifar-10-python.tar.gz\n"
          ]
        },
        {
          "output_type": "stream",
          "name": "stderr",
          "text": [
            "100%|██████████| 170498071/170498071 [00:05<00:00, 29326227.87it/s]\n"
          ]
        },
        {
          "output_type": "stream",
          "name": "stdout",
          "text": [
            "Extracting data/cifar-10-python.tar.gz to data\n",
            "Files already downloaded and verified\n"
          ]
        }
      ]
    },
    {
      "cell_type": "code",
      "source": [
        "# this chunk is used to get the validation datset from the training dataset\n",
        "from torch.utils.data import random_split # importing random_split\n",
        "\n",
        "\n",
        "train_size = len(ds_train) # taking length of the training set\n",
        "val_size = int(0.1 * train_size)  # Taking 10% of the training set for validation\n",
        "\n",
        "train_dataset, val_dataset = random_split(ds_train, [train_size - val_size, val_size]) # seperating into 90% of training into new training and 10% of training to validation\n",
        "\n",
        "print(f\"Training set size: {len(train_dataset)}\")\n",
        "print(f\"Validation set size: {len(val_dataset)}\")\n"
      ],
      "metadata": {
        "colab": {
          "base_uri": "https://localhost:8080/"
        },
        "id": "cQnu4MTEEdWm",
        "outputId": "91938b19-a200-4da1-815d-fde296125585"
      },
      "execution_count": 6,
      "outputs": [
        {
          "output_type": "stream",
          "name": "stdout",
          "text": [
            "Training set size: 45000\n",
            "Validation set size: 5000\n"
          ]
        }
      ]
    },
    {
      "cell_type": "code",
      "source": [
        "print(f\"Test set size: {len(test_dataset)}\")"
      ],
      "metadata": {
        "colab": {
          "base_uri": "https://localhost:8080/"
        },
        "id": "Lxa9m1dxEeeO",
        "outputId": "78e6cb24-50bb-4e95-c39d-03b7b7a833ab"
      },
      "execution_count": 7,
      "outputs": [
        {
          "output_type": "stream",
          "name": "stdout",
          "text": [
            "Test set size: 10000\n"
          ]
        }
      ]
    },
    {
      "cell_type": "markdown",
      "source": [
        "## Defining the Network Architecture"
      ],
      "metadata": {
        "id": "Ekke5IuSEhwL"
      }
    },
    {
      "cell_type": "code",
      "source": [
        "class Net(nn.Module):\n",
        "  def __init__(self):\n",
        "    super(Net, self).__init__()\n",
        "    self.block1 = nn.Sequential(\n",
        "        nn.Conv2d(3,32,3,1),\n",
        "        nn.BatchNorm2d(32),\n",
        "        nn.ReLU(inplace = True),\n",
        "        nn.Conv2d(32,64,3,1),\n",
        "        nn.BatchNorm2d(64),\n",
        "        nn.ReLU(inplace=True),\n",
        "        nn.MaxPool2d(2),\n",
        "        nn.Dropout(0.25),\n",
        "    )\n",
        "    self.block2 = nn.Sequential(\n",
        "        nn.Flatten(),\n",
        "        nn.Linear(12544,128),\n",
        "        nn.BatchNorm1d(128),\n",
        "        nn.ReLU(inplace=True),\n",
        "        nn.Dropout(0.5),\n",
        "        nn.Linear(128,10),\n",
        "        nn.BatchNorm1d(10)\n",
        "    )\n",
        "\n",
        "  def forward(self,x):\n",
        "    x = self.block1(x)\n",
        "    return self.block2(x)"
      ],
      "metadata": {
        "id": "II4RE9lcEhaa"
      },
      "execution_count": 20,
      "outputs": []
    },
    {
      "cell_type": "code",
      "source": [
        "net = Net()"
      ],
      "metadata": {
        "id": "AA8gTMrhG3ak"
      },
      "execution_count": 21,
      "outputs": []
    },
    {
      "cell_type": "code",
      "source": [
        "import torch.optim as optim #importing optim"
      ],
      "metadata": {
        "id": "E18syFbvGu8q"
      },
      "execution_count": 22,
      "outputs": []
    },
    {
      "cell_type": "code",
      "source": [
        "criterion = nn.CrossEntropyLoss()  # Taking Cross Entropy Loss as the Loss function\n",
        "optimizer = optim.SGD(net.parameters(), lr=0.01)  # optimizer is SGD stochastic gradient descent\n"
      ],
      "metadata": {
        "id": "eD-jw9bVG0nt"
      },
      "execution_count": 23,
      "outputs": []
    },
    {
      "cell_type": "markdown",
      "source": [
        "# Creating DataLoaders"
      ],
      "metadata": {
        "id": "qROaq25CG76z"
      }
    },
    {
      "cell_type": "code",
      "source": [
        "from torch.utils.data import DataLoader # importing dataloader"
      ],
      "metadata": {
        "id": "eSwpQtNEG6MF"
      },
      "execution_count": 24,
      "outputs": []
    },
    {
      "cell_type": "code",
      "source": [
        "# loading all the datasets into dataloader for feeding into the model by batches\n",
        "\n",
        "train_loader = DataLoader(train_dataset, batch_size=64, shuffle=True)\n",
        "val_loader = DataLoader(val_dataset, batch_size=64, shuffle=False)\n",
        "test_loader = DataLoader(test_dataset, batch_size=64, shuffle=False)"
      ],
      "metadata": {
        "id": "YiYks81JG_K9"
      },
      "execution_count": 25,
      "outputs": []
    },
    {
      "cell_type": "markdown",
      "source": [
        "# Printing the image"
      ],
      "metadata": {
        "id": "Sj5B_C2IHovi"
      }
    },
    {
      "cell_type": "code",
      "source": [
        "train_features,train_labels = next(iter(train_loader))"
      ],
      "metadata": {
        "id": "w45YENIJHtzq"
      },
      "execution_count": 26,
      "outputs": []
    },
    {
      "cell_type": "code",
      "source": [
        "train_features[0].shape"
      ],
      "metadata": {
        "colab": {
          "base_uri": "https://localhost:8080/"
        },
        "id": "A9GIMns1Iv5a",
        "outputId": "2c6e6761-f5d5-4149-ad97-120ec951322d"
      },
      "execution_count": 27,
      "outputs": [
        {
          "output_type": "execute_result",
          "data": {
            "text/plain": [
              "torch.Size([3, 32, 32])"
            ]
          },
          "metadata": {},
          "execution_count": 27
        }
      ]
    },
    {
      "cell_type": "code",
      "source": [
        "import matplotlib.pyplot as plt\n",
        "\n",
        "\n",
        "print(f\"Feature batch shape: {train_features.size()}\")\n",
        "print(f\"Labels batch shape: {train_labels.size()}\")\n",
        "\n",
        "# Select the first image from the batch\n",
        "img = train_features[0].squeeze().permute(1, 2, 0)\n",
        "label = train_labels[0]\n",
        "\n",
        "plt.imshow(img, cmap=\"gray\")\n",
        "plt.show()\n",
        "print(f\"Label: {label}\")\n"
      ],
      "metadata": {
        "colab": {
          "base_uri": "https://localhost:8080/",
          "height": 482
        },
        "id": "OnRkgGk4HqM6",
        "outputId": "f73014e4-7f1f-42ec-feda-9da2eca02d6f"
      },
      "execution_count": 32,
      "outputs": [
        {
          "output_type": "stream",
          "name": "stdout",
          "text": [
            "Feature batch shape: torch.Size([64, 3, 32, 32])\n",
            "Labels batch shape: torch.Size([64, 10])\n"
          ]
        },
        {
          "output_type": "display_data",
          "data": {
            "text/plain": [
              "<Figure size 640x480 with 1 Axes>"
            ],
            "image/png": "[encoded data removed]"
          },
          "metadata": {}
        },
        {
          "output_type": "stream",
          "name": "stdout",
          "text": [
            "Label: tensor([0., 0., 0., 1., 0., 0., 0., 0., 0., 0.])\n"
          ]
        }
      ]
    },
    {
      "cell_type": "markdown",
      "source": [
        "## Training and Validating the Model"
      ],
      "metadata": {
        "id": "Iwhq6cviHDeS"
      }
    },
    {
      "cell_type": "code",
      "source": [
        "def trainval_loop(train_loader, val_loader, net, criterion, optimizer): #parameters for the function\n",
        "    # Set the model to training mode before entering loops\n",
        "    net.train()\n",
        "\n",
        "    # Training loop\n",
        "    size = len(train_loader.dataset)\n",
        "    for batch, (X, y) in enumerate(train_loader):\n",
        "        # Compute prediction and loss (training)\n",
        "        pred = net(X)\n",
        "        loss = criterion(pred, y)\n",
        "\n",
        "        # Backpropagation\n",
        "        loss.backward()\n",
        "        optimizer.step()\n",
        "        optimizer.zero_grad() # this is done to deny the involement of the previous gradients interference with the current ones\n",
        "\n",
        "        if batch % 100 == 0:\n",
        "            current = batch * len(X)\n",
        "            print(f\"Training loss: {loss.item():>7f}  [{current:>5d}/{size:>5d}]\") #printing training loss\n",
        "\n",
        "    # Set the model to evaluation mode before validation\n",
        "    net.eval()\n",
        "\n",
        "    # Validation loop\n",
        "    val_loss = 0\n",
        "    val_size = len(val_loader.dataset)\n",
        "    with torch.no_grad():  # No need to compute gradients during validation\n",
        "        for batch, (X, y) in enumerate(val_loader):\n",
        "            # Compute prediction and loss\n",
        "            pred = net(X)\n",
        "            loss = criterion(pred, y)\n",
        "            val_loss += loss.item()\n",
        "\n",
        "            if batch % 100 == 0:\n",
        "                current = batch * len(X)\n",
        "                print(f\"Validation loss: {loss.item():>7f}  [{current:>5d}/{val_size:>5d}]\") #printing validation loss\n",
        "\n",
        "    avg_val_loss = val_loss / len(val_loader)\n",
        "    print(f\"Avg. Validation loss: {avg_val_loss:>7f}\") #printing average validation loss\n",
        "\n"
      ],
      "metadata": {
        "id": "zcYD9AhMHET9"
      },
      "execution_count": 17,
      "outputs": []
    },
    {
      "cell_type": "markdown",
      "source": [
        "## Testing the Model"
      ],
      "metadata": {
        "id": "y9fRDaGiHNld"
      }
    },
    {
      "cell_type": "code",
      "source": [
        "# this chunk is important for testing the model\n",
        "def test_loop(test_loader, net, criterion): # function test_loop taking these respective parameters\n",
        "    net.eval() # setting the model to eval\n",
        "    size = len(test_loader.dataset)\n",
        "    num_batches = len(test_loader)\n",
        "    test_loss, correct = 0, 0\n",
        "\n",
        "    with torch.no_grad():\n",
        "        for X, y in test_loader:\n",
        "            pred = net(X)\n",
        "            test_loss += criterion(pred, y).item()\n",
        "\n",
        "            # Calculate the number of correct predictions in this batch\n",
        "            pred_labels = pred.argmax(dim=1)\n",
        "            y= y.argmax(dim=1)\n",
        "            #print(pred_labels,y)\n",
        "            correct += (pred_labels == y).sum().item()\n",
        "\n",
        "    test_loss /= num_batches\n",
        "    accuracy = correct / size\n",
        "    print(f\"Test Error: \\n Accuracy: {(100*accuracy):.2f}%, Avg loss: {test_loss:.8f} \\n\") # printint the Accuracy (TEST) and the test_loss\n"
      ],
      "metadata": {
        "id": "ajbCT-WDHM_w"
      },
      "execution_count": 18,
      "outputs": []
    },
    {
      "cell_type": "markdown",
      "source": [
        "## Now Training and Validation"
      ],
      "metadata": {
        "id": "6aBbgbCpHUFh"
      }
    },
    {
      "cell_type": "code",
      "source": [
        "epochs = 5\n",
        "for t in range(epochs):\n",
        "    print(f\"Epoch {t+1}\\n-------------------------------\")\n",
        "    trainval_loop(train_loader,val_loader, net, criterion, optimizer) # running train_val loop by 10 times\n",
        "print(\"Done!\")"
      ],
      "metadata": {
        "id": "I8VACkLUHUt4",
        "colab": {
          "base_uri": "https://localhost:8080/"
        },
        "outputId": "11bd204d-91c0-4c5d-fcb2-1442c705111d"
      },
      "execution_count": 40,
      "outputs": [
        {
          "output_type": "stream",
          "name": "stdout",
          "text": [
            "Epoch 1\n",
            "-------------------------------\n",
            "Training loss: 0.910181  [    0/45000]\n",
            "Training loss: 0.650464  [ 6400/45000]\n",
            "Training loss: 0.719887  [12800/45000]\n",
            "Training loss: 0.682397  [19200/45000]\n",
            "Training loss: 0.496460  [25600/45000]\n",
            "Training loss: 0.725184  [32000/45000]\n",
            "Training loss: 0.694863  [38400/45000]\n",
            "Training loss: 0.684219  [44800/45000]\n",
            "Validation loss: 0.849406  [    0/ 5000]\n",
            "Avg. Validation loss: 0.959828\n",
            "Epoch 2\n",
            "-------------------------------\n",
            "Training loss: 0.566456  [    0/45000]\n",
            "Training loss: 0.655020  [ 6400/45000]\n",
            "Training loss: 0.630510  [12800/45000]\n",
            "Training loss: 0.747386  [19200/45000]\n",
            "Training loss: 0.859600  [25600/45000]\n",
            "Training loss: 0.584530  [32000/45000]\n",
            "Training loss: 0.578091  [38400/45000]\n",
            "Training loss: 0.723399  [44800/45000]\n",
            "Validation loss: 0.932030  [    0/ 5000]\n",
            "Avg. Validation loss: 1.117306\n",
            "Epoch 3\n",
            "-------------------------------\n",
            "Training loss: 0.693233  [    0/45000]\n",
            "Training loss: 0.767393  [ 6400/45000]\n",
            "Training loss: 0.521582  [12800/45000]\n",
            "Training loss: 0.504629  [19200/45000]\n",
            "Training loss: 0.624498  [25600/45000]\n",
            "Training loss: 0.625661  [32000/45000]\n",
            "Training loss: 0.814260  [38400/45000]\n",
            "Training loss: 0.705214  [44800/45000]\n",
            "Validation loss: 0.990080  [    0/ 5000]\n",
            "Avg. Validation loss: 1.184385\n",
            "Epoch 4\n",
            "-------------------------------\n",
            "Training loss: 0.786331  [    0/45000]\n",
            "Training loss: 0.686227  [ 6400/45000]\n",
            "Training loss: 0.773381  [12800/45000]\n",
            "Training loss: 0.732491  [19200/45000]\n",
            "Training loss: 0.423078  [25600/45000]\n",
            "Training loss: 0.804583  [32000/45000]\n",
            "Training loss: 0.663311  [38400/45000]\n",
            "Training loss: 0.618233  [44800/45000]\n",
            "Validation loss: 1.693731  [    0/ 5000]\n",
            "Avg. Validation loss: 1.986028\n",
            "Epoch 5\n",
            "-------------------------------\n",
            "Training loss: 0.754077  [    0/45000]\n",
            "Training loss: 0.595910  [ 6400/45000]\n",
            "Training loss: 0.517357  [12800/45000]\n",
            "Training loss: 0.712467  [19200/45000]\n",
            "Training loss: 0.769785  [25600/45000]\n",
            "Training loss: 0.686716  [32000/45000]\n",
            "Training loss: 0.646795  [38400/45000]\n",
            "Training loss: 0.831449  [44800/45000]\n",
            "Validation loss: 1.043536  [    0/ 5000]\n",
            "Avg. Validation loss: 1.116400\n",
            "Done!\n"
          ]
        }
      ]
    },
    {
      "cell_type": "markdown",
      "source": [
        "# Testing"
      ],
      "metadata": {
        "id": "G-KEzLddDSUA"
      }
    },
    {
      "cell_type": "code",
      "source": [
        "test_loop(test_loader, net, criterion) #test_loop running and checking the results\n",
        ""
      ],
      "metadata": {
        "id": "REyGDQe5HAeN",
        "colab": {
          "base_uri": "https://localhost:8080/"
        },
        "outputId": "f584fd8d-4973-4b68-d3cf-b1947efff8fe"
      },
      "execution_count": 41,
      "outputs": [
        {
          "output_type": "stream",
          "name": "stdout",
          "text": [
            "Test Error: \n",
            " Accuracy: 62.17%, Avg loss: 1.12349482 \n",
            "\n"
          ]
        }
      ]
    }
  ]
}