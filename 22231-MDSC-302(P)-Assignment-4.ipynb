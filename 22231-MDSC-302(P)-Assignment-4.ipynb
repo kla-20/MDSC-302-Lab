{
 "cells": [
  {
   "cell_type": "markdown",
   "id": "edc9f0d9",
   "metadata": {},
   "source": [
    "##### Name: K Lalith Aditya\n",
    "##### Regd No: 22231\n",
    "##### Building the MODEL"
   ]
  },
  {
   "cell_type": "markdown",
   "id": "5e4bc4a1",
   "metadata": {},
   "source": [
    "<h4>BUILD the neural Network</h4>\n",
    "<br>\n",
    "Neural networks comprise of layers/models that perform operations on the data. The torch.nn provides all the building blocks you need to build your own neural network. Every module in pytorch subclasses the nn.Module. A neural network is a module itself that consists of other modules (layers). The nested structure allows for building and managing complex architectures easily."
   ]
  },
  {
   "cell_type": "code",
   "execution_count": 1,
   "id": "194c575f",
   "metadata": {},
   "outputs": [],
   "source": [
    "# Building the Neural Network to Classify the images in the FashionMNIST dataset\n",
    "\n",
    "import os\n",
    "import torch\n",
    "from torch import nn\n",
    "from torch.utils.data import DataLoader\n",
    "from torchvision import datasets, transforms"
   ]
  },
  {
   "cell_type": "code",
   "execution_count": 2,
   "id": "4bdb758f",
   "metadata": {},
   "outputs": [
    {
     "name": "stdout",
     "output_type": "stream",
     "text": [
      "Using cpu device\n"
     ]
    }
   ],
   "source": [
    "## Checking whether there is a hardware accelerator like the GPU or MPS. \n",
    "## or torch.cuda or torch.backends.mps are available or we use CPU.\n",
    "\n",
    "device = (\n",
    "    \"cuda\"\n",
    "    if torch.cuda.is_available() # checking for cuda\n",
    "    else \"mps\"\n",
    "    if torch.backends.mps.is_available() # checking for mps\n",
    "    else \"cpu\"\n",
    ")\n",
    "print(f\"Using {device} device\")"
   ]
  },
  {
   "cell_type": "code",
   "execution_count": 4,
   "id": "1531ef55",
   "metadata": {},
   "outputs": [
    {
     "data": {
      "text/plain": [
       "'\\nWe define our neural network by subclassing nn.Module and initialize the neural network layers in __init__. Every \\nnn.Module subclass implemetns the operatios on the input data in the forward method.\\n'"
      ]
     },
     "execution_count": 4,
     "metadata": {},
     "output_type": "execute_result"
    }
   ],
   "source": [
    "# Define the Class\n",
    "\n",
    "\"\"\"\n",
    "We define our neural network by subclassing nn.Module and initialize the neural network layers in __init__. Every \n",
    "nn.Module subclass implemetns the operatios on the input data in the forward method.\n",
    "\"\"\""
   ]
  },
  {
   "cell_type": "code",
   "execution_count": 18,
   "id": "8eb118d3",
   "metadata": {},
   "outputs": [],
   "source": [
    "class NeuralNetwork(nn.Module):\n",
    "    def __init__(self): # This is the initialization method of the NeuralNetwork class. It is executed when an instance of the class is created.\n",
    "        super().__init__() # calls the initialization method of the parent class \n",
    "        self.flatten = nn.Flatten() #creates an instance of the nn.Flatten module. This module is used to flatten the input tensor, which is typically a multi-dimensional tensor, into a 1-dimensional tensor. This is required before passing the input through the fully connected layers.\n",
    "        self.linear_relu_stack = nn.Sequential(\n",
    "            # defines a sequential container module called linear_relu_stack. It consists of a sequence of linear (fully connected) layers followed by ReLU activation functions.\n",
    "            nn.Linear(28*28, 512), # This is the first linear layer with 28*28 (784) input features and 512 output features.\n",
    "            nn.ReLU(), # This applies the Rectified Linear Unit (ReLU) activation function element-wise to the output of the first linear layer.\n",
    "            nn.Linear(512,512), #  This is the second linear layer with 512 input features and 512 output features.\n",
    "            nn.ReLU(), # This applies ReLU activation to the output of the second linear layer.\n",
    "            nn.Linear(512,10),\n",
    "            # This is the final linear layer with 512 input features (output from the previous layer) and 10 output features, representing the logits for the 10 classes.\n",
    "        )\n",
    "        \n",
    "    def forward(self,x):\n",
    "        x = self.flatten(x) #  applies the flatten module to flatten the input tensor x.\n",
    "        logits = self.linear_relu_stack(x) #passes the flattened input through the linear_relu_stack module, which applies the linear layers and ReLU activations in sequence.\n",
    "        return logits # return the logits value\n",
    "        "
   ]
  },
  {
   "cell_type": "code",
   "execution_count": 22,
   "id": "635d9350",
   "metadata": {},
   "outputs": [
    {
     "name": "stdout",
     "output_type": "stream",
     "text": [
      "NeuralNetwork(\n",
      "  (flatten): Flatten(start_dim=1, end_dim=-1)\n",
      "  (linear_relu_stack): Sequential(\n",
      "    (0): Linear(in_features=784, out_features=512, bias=True)\n",
      "    (1): ReLU()\n",
      "    (2): Linear(in_features=512, out_features=512, bias=True)\n",
      "    (3): ReLU()\n",
      "    (4): Linear(in_features=512, out_features=10, bias=True)\n",
      "  )\n",
      ")\n"
     ]
    }
   ],
   "source": [
    "## Creating an instance of NeuralNetwork, and move it to the device and print its structure\n",
    "\n",
    "model = NeuralNetwork().to(device)\n",
    "print(model)"
   ]
  },
  {
   "cell_type": "code",
   "execution_count": 23,
   "id": "5f87a79f",
   "metadata": {},
   "outputs": [
    {
     "data": {
      "text/plain": [
       "\"\\nTo use the model, we pass the input data. This executes the model's forward, along with some\\nbackground operations. Do not call the model.forward() directly\\n\\nCalling the model on the input returns a 2-dimensional tensor with dim=0 corresponding to each output of 10 raw\\npredicted values for each class. and dim=1 corresponding to the individual values of each output.\\nWe get the prediction probabilities by passing it through the instance of the nn.Softmax module\\n\""
      ]
     },
     "execution_count": 23,
     "metadata": {},
     "output_type": "execute_result"
    }
   ],
   "source": [
    "\"\"\"\n",
    "To use the model, we pass the input data. This executes the model's forward, along with some\n",
    "background operations. Do not call the model.forward() directly\n",
    "\n",
    "Calling the model on the input returns a 2-dimensional tensor with dim=0 corresponding to each output of 10 raw\n",
    "predicted values for each class. and dim=1 corresponding to the individual values of each output.\n",
    "We get the prediction probabilities by passing it through the instance of the nn.Softmax module\n",
    "\"\"\""
   ]
  },
  {
   "cell_type": "code",
   "execution_count": 35,
   "id": "e3034159",
   "metadata": {},
   "outputs": [
    {
     "name": "stdout",
     "output_type": "stream",
     "text": [
      "Predicted class: tensor([7])\n"
     ]
    }
   ],
   "source": [
    "X = torch.rand(1, 28, 28, device=device)\n",
    "# This line creates a random tensor X with shape (1, 28, 28) on the specified device. It represents the input data, possibly an image, for the neural network.\n",
    "logits = model(X)\n",
    "# The model performs the forward pass, applying its layers to generate the logits. Logits are the raw output values from the neural network before applying any activation function.\n",
    "pred_probab = nn.Softmax(dim=1)(logits)\n",
    "# This line applies the softmax function to the logits using nn.Softmax. The softmax function converts the logits into probabilities, where each value represents the predicted probability of the corresponding class label. The dim=1 argument indicates that the softmax operation should be performed along dimension 1 (the class dimension).\n",
    "y_pred = pred_probab.argmax(1)\n",
    "# This line uses the argmax function to find the index of the class label with the highest probability. It returns a tensor y_pred containing the predicted class label for the input data.\n",
    "print(f\"Predicted class: {y_pred}\")"
   ]
  },
  {
   "cell_type": "code",
   "execution_count": 38,
   "id": "15cb05e9",
   "metadata": {},
   "outputs": [
    {
     "name": "stdout",
     "output_type": "stream",
     "text": [
      "torch.Size([3, 28, 28])\n"
     ]
    }
   ],
   "source": [
    "# Model layers\n",
    "\"\"\"\n",
    "Let’s break down the layers in the FashionMNIST model. To illustrate it, we will take a sample minibatch of 3 images of size 28x28 and see what happens to it as we pass it through the network.\n",
    "\"\"\"\n",
    "input_image = torch.rand(3,28,28) # 3 images of size 28*28\n",
    "print(input_image.size())"
   ]
  },
  {
   "cell_type": "code",
   "execution_count": 41,
   "id": "ce46d725",
   "metadata": {},
   "outputs": [
    {
     "name": "stdout",
     "output_type": "stream",
     "text": [
      "torch.Size([3, 784])\n"
     ]
    }
   ],
   "source": [
    "# nn.Flatten\n",
    "# We initialize the nn.Flatten layer to convert each 2D 28x28 image into a contiguous array of 784 pixel values ( the minibatch dimension (at dim=0) is maintained).\n",
    "flatten = nn.Flatten() # creates an instance and assigns to flatten \n",
    "flat_image = flatten(input_image) # flattening the image\n",
    "print(flat_image.size())"
   ]
  },
  {
   "cell_type": "code",
   "execution_count": 42,
   "id": "18b9e774",
   "metadata": {},
   "outputs": [
    {
     "name": "stdout",
     "output_type": "stream",
     "text": [
      "torch.Size([3, 20])\n"
     ]
    }
   ],
   "source": [
    "# nn.Linear\n",
    "# The linear layer is a module that applies a linear transformation on the input using its stored weights and biases.\n",
    "\n",
    "layer1 = nn.Linear(in_features=28*28, out_features=20)\n",
    "hidden1 = layer1(flat_image)\n",
    "print(hidden1.size())"
   ]
  },
  {
   "cell_type": "code",
   "execution_count": 43,
   "id": "9e71fe6e",
   "metadata": {},
   "outputs": [
    {
     "name": "stdout",
     "output_type": "stream",
     "text": [
      "Before ReLU: tensor([[ 0.2439, -0.1054, -0.1111,  0.3703,  0.4812, -0.1558,  0.5489,  0.7603,\n",
      "         -0.4405,  0.3205, -0.4583,  0.0818, -0.2027,  0.3265, -0.0573,  0.4570,\n",
      "         -0.1445,  0.3469,  0.3093, -0.5367],\n",
      "        [-0.0210, -0.0928, -0.1637,  0.1365,  0.3346, -0.2265,  0.7167,  0.3921,\n",
      "         -0.0046,  0.0700, -0.7507,  0.4989,  0.2835,  0.3052, -0.3222,  0.1745,\n",
      "         -0.0856,  0.2226,  0.1520, -0.7739],\n",
      "        [ 0.1493, -0.1463,  0.2821,  0.1663,  0.3590, -0.0069,  0.4745,  0.5459,\n",
      "         -0.1242,  0.1097, -0.8123, -0.0345, -0.0184,  0.3922, -0.2342,  0.3006,\n",
      "         -0.3071,  0.3864, -0.0104, -0.7499]], grad_fn=<AddmmBackward0>)\n",
      "\n",
      "\n",
      "After ReLU: tensor([[0.2439, 0.0000, 0.0000, 0.3703, 0.4812, 0.0000, 0.5489, 0.7603, 0.0000,\n",
      "         0.3205, 0.0000, 0.0818, 0.0000, 0.3265, 0.0000, 0.4570, 0.0000, 0.3469,\n",
      "         0.3093, 0.0000],\n",
      "        [0.0000, 0.0000, 0.0000, 0.1365, 0.3346, 0.0000, 0.7167, 0.3921, 0.0000,\n",
      "         0.0700, 0.0000, 0.4989, 0.2835, 0.3052, 0.0000, 0.1745, 0.0000, 0.2226,\n",
      "         0.1520, 0.0000],\n",
      "        [0.1493, 0.0000, 0.2821, 0.1663, 0.3590, 0.0000, 0.4745, 0.5459, 0.0000,\n",
      "         0.1097, 0.0000, 0.0000, 0.0000, 0.3922, 0.0000, 0.3006, 0.0000, 0.3864,\n",
      "         0.0000, 0.0000]], grad_fn=<ReluBackward0>)\n"
     ]
    }
   ],
   "source": [
    "## nn.ReLU\n",
    "# Non-linear activations are what create the complex mappings between the model’s inputs and outputs. They are applied after linear transformations to introduce nonlinearity, helping neural networks learn a wide variety of phenomena.\n",
    "\n",
    "#In this model, we use nn.ReLU between our linear layers, but there’s other activations to introduce non-linearity in your model.\n",
    "\n",
    "print(f\"Before ReLU: {hidden1}\\n\\n\") #before ReLU activation\n",
    "hidden1 = nn.ReLU()(hidden1)\n",
    "print(f\"After ReLU: {hidden1}\") #after ReLU activation"
   ]
  },
  {
   "cell_type": "code",
   "execution_count": 49,
   "id": "afa85fd7",
   "metadata": {},
   "outputs": [],
   "source": [
    "# nn.Sequential\n",
    "seq_modules = nn.Sequential(\n",
    "    flatten,\n",
    "    layer1,\n",
    "    nn.ReLU(),\n",
    "    nn.Linear(20, 10)\n",
    ") # sequence of the layers\n",
    "input_image = torch.rand(3,28,28)\n",
    "logits = seq_modules(input_image)"
   ]
  },
  {
   "cell_type": "code",
   "execution_count": 50,
   "id": "6df654d6",
   "metadata": {},
   "outputs": [
    {
     "data": {
      "text/plain": [
       "'\\nThe last linear layer of the neural network returns logits - raw values in [-infty, infty] - which are passed to the nn.Softmax module. The logits are scaled to values [0, 1] representing the model’s predicted probabilities for each class. dim parameter indicates the dimension along which the values must sum to 1.\\n'"
      ]
     },
     "execution_count": 50,
     "metadata": {},
     "output_type": "execute_result"
    }
   ],
   "source": [
    "# nn.Softmax\n",
    "\n",
    "\"\"\"\n",
    "The last linear layer of the neural network returns logits - raw values in [-infty, infty] - which are passed to the nn.Softmax module. The logits are scaled to values [0, 1] representing the model’s predicted probabilities for each class. dim parameter indicates the dimension along which the values must sum to 1.\n",
    "\"\"\""
   ]
  },
  {
   "cell_type": "code",
   "execution_count": 51,
   "id": "99afc29d",
   "metadata": {},
   "outputs": [],
   "source": [
    "softmax = nn.Softmax(dim=1)\n",
    "pred_probab = softmax(logits)"
   ]
  },
  {
   "cell_type": "markdown",
   "id": "5af210d3",
   "metadata": {},
   "source": [
    "#### Model Parameters"
   ]
  },
  {
   "cell_type": "code",
   "execution_count": 53,
   "id": "3deaf75f",
   "metadata": {},
   "outputs": [],
   "source": [
    "#Many layers inside a neural network are parameterized, i.e. have associated weights and biases that are optimized during training. Subclassing nn.Module automatically tracks all fields defined inside your model object, and makes all parameters accessible using your model’s parameters() or named_parameters() methods."
   ]
  },
  {
   "cell_type": "code",
   "execution_count": 54,
   "id": "563ef3c9",
   "metadata": {},
   "outputs": [
    {
     "name": "stdout",
     "output_type": "stream",
     "text": [
      "Model structure: NeuralNetwork(\n",
      "  (flatten): Flatten(start_dim=1, end_dim=-1)\n",
      "  (linear_relu_stack): Sequential(\n",
      "    (0): Linear(in_features=784, out_features=512, bias=True)\n",
      "    (1): ReLU()\n",
      "    (2): Linear(in_features=512, out_features=512, bias=True)\n",
      "    (3): ReLU()\n",
      "    (4): Linear(in_features=512, out_features=10, bias=True)\n",
      "  )\n",
      ")\n",
      "\n",
      "\n"
     ]
    }
   ],
   "source": [
    "print(f\"Model structure: {model}\\n\\n\")"
   ]
  },
  {
   "cell_type": "code",
   "execution_count": 56,
   "id": "92bdf6d2",
   "metadata": {},
   "outputs": [
    {
     "name": "stdout",
     "output_type": "stream",
     "text": [
      "Layer: linear_relu_stack.0.weight | Size: torch.Size([512, 784]) | Values : tensor([[ 0.0149, -0.0310,  0.0055,  ...,  0.0307,  0.0297,  0.0212],\n",
      "        [-0.0058,  0.0013,  0.0310,  ..., -0.0013, -0.0132, -0.0187]],\n",
      "       grad_fn=<SliceBackward0>) \n",
      "\n",
      "Layer: linear_relu_stack.0.bias | Size: torch.Size([512]) | Values : tensor([-0.0134, -0.0087], grad_fn=<SliceBackward0>) \n",
      "\n",
      "Layer: linear_relu_stack.2.weight | Size: torch.Size([512, 512]) | Values : tensor([[-0.0048,  0.0073,  0.0188,  ..., -0.0159, -0.0349, -0.0076],\n",
      "        [ 0.0288,  0.0200,  0.0244,  ..., -0.0347,  0.0252, -0.0208]],\n",
      "       grad_fn=<SliceBackward0>) \n",
      "\n",
      "Layer: linear_relu_stack.2.bias | Size: torch.Size([512]) | Values : tensor([-0.0252, -0.0397], grad_fn=<SliceBackward0>) \n",
      "\n",
      "Layer: linear_relu_stack.4.weight | Size: torch.Size([10, 512]) | Values : tensor([[ 0.0351,  0.0157, -0.0196,  ..., -0.0307,  0.0091,  0.0031],\n",
      "        [-0.0389, -0.0338,  0.0164,  ...,  0.0068,  0.0256,  0.0136]],\n",
      "       grad_fn=<SliceBackward0>) \n",
      "\n",
      "Layer: linear_relu_stack.4.bias | Size: torch.Size([10]) | Values : tensor([0.0309, 0.0420], grad_fn=<SliceBackward0>) \n",
      "\n"
     ]
    }
   ],
   "source": [
    "# iterating over the parameters\n",
    "for name, param in model.named_parameters():\n",
    "    print(f\"Layer: {name} | Size: {param.size()} | Values : {param[:2]} \\n\") "
   ]
  },
  {
   "cell_type": "code",
   "execution_count": null,
   "id": "be6be705",
   "metadata": {},
   "outputs": [],
   "source": []
  }
 ],
 "metadata": {
  "kernelspec": {
   "display_name": "Python 3 (ipykernel)",
   "language": "python",
   "name": "python3"
  },
  "language_info": {
   "codemirror_mode": {
    "name": "ipython",
    "version": 3
   },
   "file_extension": ".py",
   "mimetype": "text/x-python",
   "name": "python",
   "nbconvert_exporter": "python",
   "pygments_lexer": "ipython3",
   "version": "3.11.4"
  }
 },
 "nbformat": 4,
 "nbformat_minor": 5
}
